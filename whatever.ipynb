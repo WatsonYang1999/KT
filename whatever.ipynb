{
 "cells": [
  {
   "cell_type": "markdown",
   "source": [
    "用Jupyter还是体验很不错的，在有了自动补全之后。但是这么一想你只是在call modules，对于你实现封装好了的玩意还是需要一个好的可视化的方法。"
   ],
   "metadata": {
    "collapsed": false,
    "pycharm": {
     "name": "#%% md\n"
    }
   }
  },
  {
   "cell_type": "code",
   "execution_count": null,
   "outputs": [],
   "source": [
    "import logging\n",
    "import os\n",
    "from datetime import datetime\n",
    "\n",
    "import torch\n",
    "\n",
    "from KT.models.Loss import KTSequenceLoss\n",
    "from KT.models.Pretrain import embedding_pretrain\n",
    "from KT.train import train, evaluate\n",
    "from KT.util.args import set_parser\n",
    "from KT.util.kt_util import load_model, load_dataset, reformat_datatime, get_model_size"
   ],
   "metadata": {
    "collapsed": false,
    "pycharm": {
     "name": "#%%\n"
    }
   }
  },
  {
   "cell_type": "markdown",
   "source": [
    "import all the necessary packages\n",
    "it surely takes a lot of time to review the whole project after you skipped it for like a month."
   ],
   "metadata": {
    "collapsed": false,
    "pycharm": {
     "name": "#%% md\n"
    }
   }
  },
  {
   "cell_type": "code",
   "execution_count": 9,
   "outputs": [
    {
     "name": "stdout",
     "output_type": "stream",
     "text": [
      "SAKT\n",
      "beihang\n",
      "True\n",
      "0.0005\n"
     ]
    }
   ],
   "source": [
    "# Set parser\n",
    "parser = set_parser()\n",
    "\n",
    "# Manually set argument values within the notebook as a dictionary\n",
    "args_dict = {\n",
    "    'model': 'SAKT',\n",
    "    'dataset': 'beihang',\n",
    "    'train_from_scratch': True,\n",
    "    'lr': 0.0005\n",
    "}\n",
    "\n",
    "# Parse argument values\n",
    "args = parser.parse_args([])\n",
    "args.__dict__.update(args_dict)\n",
    "\n",
    "# Access argument values\n",
    "print(args.model)\n",
    "print(args.dataset)\n",
    "print(args.train_from_scratch)\n",
    "print(args.lr)"
   ],
   "metadata": {
    "collapsed": false,
    "pycharm": {
     "name": "#%%\n"
    }
   }
  },
  {
   "cell_type": "code",
   "execution_count": null,
   "outputs": [],
   "source": [],
   "metadata": {
    "collapsed": false,
    "pycharm": {
     "name": "#%%\n"
    }
   }
  },
  {
   "cell_type": "code",
   "execution_count": null,
   "outputs": [],
   "source": [],
   "metadata": {
    "collapsed": false,
    "pycharm": {
     "name": "#%%\n"
    }
   }
  }
 ],
 "metadata": {
  "kernelspec": {
   "name": "mydl",
   "language": "python",
   "display_name": "mydl"
  },
  "language_info": {
   "name": "python",
   "version": "3.10.12"
  },
  "orig_nbformat": 4
 },
 "nbformat": 4,
 "nbformat_minor": 2
}